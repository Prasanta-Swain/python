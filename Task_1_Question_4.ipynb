{
 "cells": [
  {
   "cell_type": "code",
   "execution_count": 85,
   "metadata": {},
   "outputs": [
    {
     "name": "stdout",
     "output_type": "stream",
     "text": [
      "Volume of sphere =  904.7786842338603\n"
     ]
    }
   ],
   "source": [
    "# 4. Write a Python program to find the volume of a sphere with diameter 12 cm.  \n",
    "# Formula: V=4/3 * p * r 3 \n",
    "\n",
    "import math\n",
    "pi = math.pi\n",
    "dia = 12\n",
    "rad = dia/2\n",
    "volume = ((4/3) * pi * rad**3)\n",
    "print(\"Volume of sphere = \", volume)"
   ]
  },
  {
   "cell_type": "code",
   "execution_count": null,
   "metadata": {},
   "outputs": [],
   "source": []
  }
 ],
 "metadata": {
  "kernelspec": {
   "display_name": "Python 3",
   "language": "python",
   "name": "python3"
  },
  "language_info": {
   "codemirror_mode": {
    "name": "ipython",
    "version": 3
   },
   "file_extension": ".py",
   "mimetype": "text/x-python",
   "name": "python",
   "nbconvert_exporter": "python",
   "pygments_lexer": "ipython3",
   "version": "3.7.3"
  }
 },
 "nbformat": 4,
 "nbformat_minor": 2
}
