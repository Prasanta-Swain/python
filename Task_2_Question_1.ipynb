{
 "cells": [
  {
   "cell_type": "code",
   "execution_count": 94,
   "metadata": {},
   "outputs": [
    {
     "name": "stdout",
     "output_type": "stream",
     "text": [
      "Enter some numbers with comma separated: 1,2,3,4,5\n",
      "Generated list:  ['1', '2', '3', '4', '5']\n"
     ]
    }
   ],
   "source": [
    "# 1. Write a program which accepts a sequence of comma-separated numbers from console and generate a list. \n",
    "\n",
    "num = input(\"Enter some numbers with comma separated: \")\n",
    "num_list = num.split(\",\")\n",
    "print(\"Generated list: \", num_list)"
   ]
  },
  {
   "cell_type": "code",
   "execution_count": null,
   "metadata": {},
   "outputs": [],
   "source": []
  }
 ],
 "metadata": {
  "kernelspec": {
   "display_name": "Python 3",
   "language": "python",
   "name": "python3"
  },
  "language_info": {
   "codemirror_mode": {
    "name": "ipython",
    "version": 3
   },
   "file_extension": ".py",
   "mimetype": "text/x-python",
   "name": "python",
   "nbconvert_exporter": "python",
   "pygments_lexer": "ipython3",
   "version": "3.7.3"
  }
 },
 "nbformat": 4,
 "nbformat_minor": 2
}
